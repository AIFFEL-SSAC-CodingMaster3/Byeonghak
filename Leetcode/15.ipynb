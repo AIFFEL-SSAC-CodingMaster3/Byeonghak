{
 "cells": [
  {
   "cell_type": "markdown",
   "metadata": {},
   "source": [
    "### [LeetCode]15. 3SUM\n",
    "***\n",
    "- **Problem**  \n",
    "***\n",
    "> **Given an array nums of n integers, are there elements a, b, c in nums such that a + b + c = 0?**  \n",
    "> **Find all unique triplets in the array which gives the sum of zero.**  \n",
    "> **Notice that the solution set must not contain duplicate triplets.**\n",
    "***\n",
    "> ***Example 1***  \n",
    "> **Input: nums = [-1,0,1,2,-1,-4]  \n",
    "> Output: [[-1,-1,2],[-1,0,1]]**  \n",
    "***\n",
    "> ***Example 2:***  \n",
    "> **Input: nums = []  \n",
    "> Output: []**\n",
    "***\n",
    "> ***Example 3:***  \n",
    "> **Input: nums = [0], target = 6  \n",
    "> Output: []**\n",
    "***\n",
    "> ***Constraints:***  \n",
    "> **0 <= nums.length <= 3000\n",
    "-105 <= nums[i] <= 105**  \n",
    "***\n",
    "- **Solve**\n",
    "__Runtime: 872 ms, faster than 67.37% of Python3 online submissions for 3Sum.__\n"
   ]
  },
  {
   "cell_type": "code",
   "execution_count": 32,
   "metadata": {},
   "outputs": [],
   "source": [
    "class Solution:\n",
    "    def threeSum(self, nums):\n",
    "        result = []\n",
    "        nums.sort()\n",
    "        for i in range(0,len(nums)-2):\n",
    "            if i > 0 and nums[i] == nums[i-1]:\n",
    "                continue\n",
    "            for j in range(i+1,len(nums)-1):\n",
    "                for k in range(j+1,len(nums)):\n",
    "                    if nums[i]+nums[j]+nums[k] ==0 :\n",
    "                        result.append((nums[i],nums[j],nums[k]))\n",
    "                    else : \n",
    "                        continue\n",
    "        return result"
   ]
  },
  {
   "cell_type": "code",
   "execution_count": 34,
   "metadata": {},
   "outputs": [
    {
     "data": {
      "text/plain": [
       "[(0, 0, 0), (0, 0, 0), (0, 0, 0)]"
      ]
     },
     "execution_count": 34,
     "metadata": {},
     "output_type": "execute_result"
    }
   ],
   "source": [
    "nums = [0,0,0,0]\n",
    "sol = Solution()\n",
    "sol.threeSum(nums)"
   ]
  },
  {
   "cell_type": "markdown",
   "metadata": {},
   "source": [
    "중복되는 부분이 존재함\n",
    "=> 책보고 수정"
   ]
  },
  {
   "cell_type": "code",
   "execution_count": 23,
   "metadata": {},
   "outputs": [],
   "source": [
    "class Solution:\n",
    "    def threeSum(self, nums):\n",
    "        result = []\n",
    "        nums.sort()\n",
    "        for i in range(len(nums)-2):\n",
    "            if i > 0 and nums[i] == nums[i-1]:\n",
    "                continue\n",
    "            for j in range(i+1,len(nums)-1):\n",
    "                if j > i+1 and nums[j] == nums[j-1]:\n",
    "                    continue\n",
    "                for k in range(j+1,len(nums)):\n",
    "                    if k > j+1 and nums[k] == nums[k-1]:\n",
    "                        continue\n",
    "                    if nums[i]+nums[j]+nums[k] ==0 :\n",
    "                        result.append((nums[i],nums[j],nums[k]))\n",
    "        return result"
   ]
  },
  {
   "cell_type": "code",
   "execution_count": 37,
   "metadata": {},
   "outputs": [
    {
     "data": {
      "text/plain": [
       "[(0, 0, 0)]"
      ]
     },
     "execution_count": 37,
     "metadata": {},
     "output_type": "execute_result"
    }
   ],
   "source": [
    "nums = [0,0,0,0]\n",
    "sol = Solution()\n",
    "sol.threeSum(nums)"
   ]
  },
  {
   "cell_type": "markdown",
   "metadata": {},
   "source": [
    "해당부분 여전히 중복되는 부분 발생. 투포인터로 계산부분 적용"
   ]
  },
  {
   "cell_type": "code",
   "execution_count": 35,
   "metadata": {},
   "outputs": [],
   "source": [
    "class Solution:\n",
    "    def threeSum(self, nums):\n",
    "        results = []\n",
    "        nums.sort()\n",
    "        for i in range(len(nums)-2):\n",
    "            if i >0 and nums[i] == nums[i-1]:\n",
    "                continue\n",
    "            left, right = i+1, len(nums)-1\n",
    "            while left < right:\n",
    "                sum = nums[i] + nums[left] + nums[right]\n",
    "                if sum < 0:\n",
    "                    left += 1\n",
    "                elif sum > 0:\n",
    "                    right -= 1\n",
    "                else:\n",
    "                    results.append((nums[i],nums[left],nums[right]))\n",
    "                    \n",
    "                    while left < right and nums[left] == nums[left + 1]:\n",
    "                        left +=1\n",
    "                    while left < right and nums[right] == nums[right-1]:\n",
    "                        right -= 1\n",
    "                    left+=1\n",
    "                    right -=1\n",
    "        return results"
   ]
  },
  {
   "cell_type": "code",
   "execution_count": 36,
   "metadata": {},
   "outputs": [
    {
     "data": {
      "text/plain": [
       "[(-1, -1, 2), (-1, 0, 1)]"
      ]
     },
     "execution_count": 36,
     "metadata": {},
     "output_type": "execute_result"
    }
   ],
   "source": [
    "nums = [-1,0,1,2,-1,-4]\n",
    "sol = Solution()\n",
    "sol.threeSum(nums)"
   ]
  },
  {
   "cell_type": "code",
   "execution_count": null,
   "metadata": {},
   "outputs": [],
   "source": []
  }
 ],
 "metadata": {
  "kernelspec": {
   "display_name": "Python 3",
   "language": "python",
   "name": "python3"
  },
  "language_info": {
   "codemirror_mode": {
    "name": "ipython",
    "version": 3
   },
   "file_extension": ".py",
   "mimetype": "text/x-python",
   "name": "python",
   "nbconvert_exporter": "python",
   "pygments_lexer": "ipython3",
   "version": "3.7.9"
  }
 },
 "nbformat": 4,
 "nbformat_minor": 4
}
