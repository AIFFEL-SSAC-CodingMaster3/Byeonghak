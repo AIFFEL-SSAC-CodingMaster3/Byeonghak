{
 "cells": [
  {
   "cell_type": "markdown",
   "metadata": {},
   "source": [
    "### [LeetCode]42. Trapping Rain Water\n",
    "***\n",
    "- **Problem**  \n",
    "***\n",
    "> **Given n non-negative integers representing an elevation map where the width of each bar is 1, compute how much water it can trap after raining.**  \n",
    "***\n",
    "> ***Example 1***  \n",
    "> **Input: height = [0,1,0,2,1,0,1,3,2,1,2,1]  \n",
    "> Output: 6  \n",
    "> Explanation: The above elevation map (black section) is represented by array [0,1,0,2,1,0,1,3,2,1,2,1]. In this case, 6 units of rain water (blue section) are being trapped.**\n",
    "***\n",
    "> ***Example 2:***  \n",
    "> **Input: height = [4,2,0,3,2,5]  \n",
    "> Output: 9**  \n",
    "***\n",
    "> ***Constraints:***  \n",
    "> **2 <= nums.length <= 103  \n",
    "-109 <= nums[i] <= 109  \n",
    "-109 <= target <= 109  \n",
    "Only one valid answer exists.**  \n",
    "***\n",
    "- **Solve**\n",
    "__ __\n"
   ]
  },
  {
   "cell_type": "code",
   "execution_count": 66,
   "metadata": {},
   "outputs": [],
   "source": [
    "class Solution:\n",
    "    def trap(self, height) :\n",
    "        i=0\n",
    "        result =0\n",
    "        total = 0\n",
    "        if height[i]!=0:\n",
    "            j = 0\n",
    "            if height[i] <= height[len(height)-1]:\n",
    "                for i in range(len(height)-1):\n",
    "                    if height[j] > height[i] :\n",
    "                        result += height[j]-height[i]\n",
    "                    else : \n",
    "                        j = i\n",
    "                return result\n",
    "            else :\n",
    "                for i in range(len(height)-1):\n",
    "                    if height[j] > height[i] :\n",
    "                        result += height[j]-height[i]\n",
    "                    else : \n",
    "                        total +=result\n",
    "                        j = i\n",
    "                return total\n",
    "        else : \n",
    "            j = 1\n",
    "            for i in range(1, len(height)-1):\n",
    "                if height[j] > height[i] :\n",
    "                    result += height[j]-height[i]\n",
    "                else : \n",
    "                    total +=result\n",
    "                    j = i\n",
    "        return total"
   ]
  },
  {
   "cell_type": "code",
   "execution_count": 67,
   "metadata": {},
   "outputs": [
    {
     "data": {
      "text/plain": [
       "9"
      ]
     },
     "execution_count": 67,
     "metadata": {},
     "output_type": "execute_result"
    }
   ],
   "source": [
    "sol = Solution()\n",
    "sol.trap([4,2,0,3,2,5])"
   ]
  },
  {
   "cell_type": "markdown",
   "metadata": {},
   "source": [
    "IndexError: list index out of range\n",
    "    if height[i] > 0:\n",
    "Line 6 in trap (Solution.py)\n",
    "    ret = Solution().trap(param_1)\n",
    "Line 50 in _driver (Solution.py)\n",
    "    _driver()\n",
    "Line 61 in <module> (Solution.py)"
   ]
  },
  {
   "cell_type": "code",
   "execution_count": 28,
   "metadata": {},
   "outputs": [],
   "source": [
    "class Solution:\n",
    "    def trap(self, height) :\n",
    "        areas = 0\n",
    "        max_l = max_r = 0\n",
    "        l = 0\n",
    "        r = len(height)-1\n",
    "        while l < r:\n",
    "            if height[l] < height[r]:\n",
    "                if height[l] > max_l:\n",
    "                    max_l = height[l]\n",
    "                else:\n",
    "                    areas += max_l - height[l]\n",
    "                l +=1\n",
    "            else:\n",
    "                if height[r] > max_r:\n",
    "                    max_r = height[r]\n",
    "                else:\n",
    "                    areas += max_r - height[r]\n",
    "                r -=1\n",
    "        return areas"
   ]
  },
  {
   "cell_type": "code",
   "execution_count": 65,
   "metadata": {},
   "outputs": [
    {
     "data": {
      "text/plain": [
       "9"
      ]
     },
     "execution_count": 65,
     "metadata": {},
     "output_type": "execute_result"
    }
   ],
   "source": [
    "sol = Solution()\n",
    "sol.trap([4,2,0,3,2,5])"
   ]
  },
  {
   "cell_type": "code",
   "execution_count": null,
   "metadata": {},
   "outputs": [],
   "source": [
    " def getMoneySpent(keyboards, drives, b):\n",
    "        q = []\n",
    "        for i in range(len(keyboards)):\n",
    "            for j in range(len(drives)):\n",
    "                q.append(keyboards[i] + drives[j]) \n",
    "        for m in range(len(q)):\n",
    "            if(q[m] > b):\n",
    "                q.remove(q[m])\n",
    "            else:\n",
    "                pass\n",
    "        if q is not None:\n",
    "            return max(q)\n",
    "        else:\n",
    "            return -1"
   ]
  },
  {
   "cell_type": "code",
   "execution_count": null,
   "metadata": {},
   "outputs": [],
   "source": [
    "def getMoneySpent(keyboards, drives, b):\n",
    "    q = []\n",
    "    for k in keyboards :\n",
    "        for d in drives :\n",
    "            price = k + d\n",
    "            if price <= b :\n",
    "                q.append(price) \n",
    "\n",
    "    return max(q) if q else -1"
   ]
  }
 ],
 "metadata": {
  "kernelspec": {
   "display_name": "Python 3",
   "language": "python",
   "name": "python3"
  },
  "language_info": {
   "codemirror_mode": {
    "name": "ipython",
    "version": 3
   },
   "file_extension": ".py",
   "mimetype": "text/x-python",
   "name": "python",
   "nbconvert_exporter": "python",
   "pygments_lexer": "ipython3",
   "version": "3.7.9"
  }
 },
 "nbformat": 4,
 "nbformat_minor": 4
}
